{
  "nbformat": 4,
  "nbformat_minor": 0,
  "metadata": {
    "colab": {
      "provenance": []
    },
    "kernelspec": {
      "name": "python3",
      "display_name": "Python 3"
    },
    "language_info": {
      "name": "python"
    }
  },
  "cells": [
    {
      "cell_type": "markdown",
      "source": [
        "1. What is NumPy, and why is it widely used in Python?\n",
        "   - NumPy is a Python library for numerical computations, offering fast and efficient operations on arrays and matrices. It's widely used due to its speed, support for vectorized operations, and powerful mathematical functions.\n",
        "\n",
        "2. How does broadcasting work in NumPy?\n",
        "   - Broadcasting allows NumPy to perform operations on arrays of different shapes by automatically expanding the smaller array to match the shape of the larger one during arithmetic operations.\n",
        "\n",
        "3. What is a Pandas DataFrame?\n",
        "   - A Pandas DataFrame is a 2D labeled data structure similar to a table in SQL or Excel, ideal for data manipulation and analysis with labeled axes (rows and columns).\n",
        "\n",
        "4. Explain the use of the groupby() method in Pandas?\n",
        "   - The groupby() method in Pandas is used to split data into groups based on some criteria, apply a function to each group, and combine the results, making it useful for aggregation and analysis.\n",
        "\n",
        "5. Why is Seaborn preferred for statistical visualizations?\n",
        "   - Seaborn is preferred for statistical visualizations because it offers high-level plotting functions, attractive default styles, and built-in support for complex visualizations like violin plots and heatmaps.\n",
        "\n",
        "6. What are the differences between NumPy arrays and Python lists?\n",
        "   - NumPy arrays are faster and more memory-efficient than Python lists and support vectorized operations, whereas Python lists are more flexible but slower and not optimized for numerical computations.\n",
        "\n",
        "7. What is a heatmap, and when should it be used?\n",
        "   - A heatmap is a graphical representation of data where values are shown with color gradients. It’s best used for visualizing correlation matrices or patterns in matrix-like data.\n",
        "\n",
        "8. What does the term “vectorized operation” mean in NumPy?\n",
        "   -  vectorized operation in NumPy means performing operations on entire arrays without explicit loops, leading to faster and more concise code execution.\n",
        "\n",
        "9. How does Matplotlib differ from Plotly?\n",
        "   - Matplotlib is a static plotting library for simple plots, while Plotly offers interactive, web-based visualizations with features like zoom, hover, and 3D plotting.\n",
        "\n",
        "10. What is the significance of hierarchical indexing in Pandas?\n",
        "   - Hierarchical indexing in Pandas allows for multiple levels of indexing in rows or columns, enabling more complex data manipulation and easier reshaping.\n",
        "\n",
        "11. What is the role of Seaborn’s pairplot() function?\n",
        "   - Seaborn’s pairplot() function creates a matrix of scatterplots for each pair of numeric variables in a dataset, helping in visualizing distributions and relationships.\n",
        "\n",
        "12. What is the purpose of the describe() function in Pandas?\n",
        "   - The describe() function in Pandas provides summary statistics like mean, median, count, and standard deviation for numerical columns, useful for quick data overview.\n",
        "\n",
        "13. Why is handling missing data important in Pandas?\n",
        "   - Handling missing data is crucial in Pandas because it ensures the integrity of analysis; unaddressed NaNs can distort statistical results and visualizations.\n",
        "\n",
        "14. What are the benefits of using Plotly for data visualization?\n",
        "   - Plotly offers interactive, customizable, and publication-quality plots with easy integration in web apps and dashboards, making it ideal for exploratory data analysis.\n",
        "\n",
        "15. How does NumPy handle multidimensional arrays?\n",
        "   - NumPy handles multidimensional arrays using the ndarray object, which supports arrays of any shape and allows for efficient slicing, indexing, and operations\n",
        "\n"
      ],
      "metadata": {
        "id": "9GE5ziPe7H4x"
      }
    },
    {
      "cell_type": "code",
      "execution_count": null,
      "metadata": {
        "id": "GVq5FGgh7Gt7"
      },
      "outputs": [],
      "source": []
    }
  ]
}